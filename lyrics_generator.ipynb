{
  "nbformat": 4,
  "nbformat_minor": 0,
  "metadata": {
    "colab": {
      "name": "lyrics generator.ipynb",
      "provenance": [],
      "collapsed_sections": [],
      "authorship_tag": "ABX9TyPhkg4rZpS6t4xv3TxcbJ4u",
      "include_colab_link": true
    },
    "kernelspec": {
      "name": "python3",
      "display_name": "Python 3"
    }
  },
  "cells": [
    {
      "cell_type": "markdown",
      "metadata": {
        "id": "view-in-github",
        "colab_type": "text"
      },
      "source": [
        "<a href=\"https://colab.research.google.com/github/rajashreekhandelia/rk1804/blob/master/lyrics_generator.ipynb\" target=\"_parent\"><img src=\"https://colab.research.google.com/assets/colab-badge.svg\" alt=\"Open In Colab\"/></a>"
      ]
    },
    {
      "cell_type": "code",
      "metadata": {
        "id": "mmE5dUaEzH1y"
      },
      "source": [
        "import requests\n",
        "import numpy as np"
      ],
      "execution_count": null,
      "outputs": []
    },
    {
      "cell_type": "code",
      "metadata": {
        "id": "dDsbgDP0zfT9"
      },
      "source": [
        "data = requests.get('https://raw.githubusercontent.com/nicno90/AI-Music-Lyric-Generator/master/Data/songdata.csv')"
      ],
      "execution_count": null,
      "outputs": []
    },
    {
      "cell_type": "code",
      "metadata": {
        "id": "h9BxnL1GzmE5"
      },
      "source": [
        "data = data.text"
      ],
      "execution_count": null,
      "outputs": []
    },
    {
      "cell_type": "code",
      "metadata": {
        "id": "irxAr1w50Upa"
      },
      "source": [
        "def generateTT (data,k=12):\n",
        "  T={}\n",
        "  for i in range (len(data)-k):\n",
        "    X=data[i:i+k]\n",
        "    Y=data[i+k]\n",
        "    if T.get(X) is None:\n",
        "      T[X]={}\n",
        "      T[X][Y]=1\n",
        "    else:\n",
        "      if T[X].get(Y) is None:\n",
        "        T[X][Y]=1\n",
        "      else:\n",
        "        T[X][Y]+=1\n",
        "  return T"
      ],
      "execution_count": null,
      "outputs": []
    },
    {
      "cell_type": "code",
      "metadata": {
        "id": "oPD-KyNe1lYY"
      },
      "source": [
        "T=generateTT(data.lower())"
      ],
      "execution_count": null,
      "outputs": []
    },
    {
      "cell_type": "code",
      "metadata": {
        "id": "7vVAw4m06QHk"
      },
      "source": [
        "input='love is always around and you can look for it anywhere'"
      ],
      "execution_count": null,
      "outputs": []
    },
    {
      "cell_type": "code",
      "metadata": {
        "id": "0GRDo_G_6S2I"
      },
      "source": [
        "for i in range(6000):\n",
        "  possible_chars=list(T[input[-12:]].keys())\n",
        "  possible_freq=list(T[input[-12:]].values())\n",
        "  probabs = [ele/sum(possible_freq) for ele in possible_freq]\n",
        "  prediction=np.random.choice(possible_chars,p=probabs)\n",
        "  input=input+prediction"
      ],
      "execution_count": null,
      "outputs": []
    },
    {
      "cell_type": "code",
      "metadata": {
        "id": "gfwPooeA7-RV",
        "outputId": "af0713bd-2da2-4c46-ffe5-922f2c6d618a",
        "colab": {
          "base_uri": "https://localhost:8080/",
          "height": 1000
        }
      },
      "source": [
        "print (input)"
      ],
      "execution_count": null,
      "outputs": [
        {
          "output_type": "stream",
          "text": [
            "love is always around and you can look for it anywhere. \"\"  \n",
            "this time i took some time to take you in my dream  \n",
            "i'm really much too late and not to him  \n",
            "it was a crack house tunin them rocks off  \n",
            "nobody but you, 'body but me,/g/george+harrison/i+wanna+live_20119229.html, \n",
            "\"--\n",
            "love me or leave me here  \n",
            "  \n",
            "we're old news  \n",
            "everybody should!  \n",
            "i believe that planet earth turns, from sanity  \n",
            "tax the rich, feed the needy  \n",
            "while we're living for the wounded city  \n",
            "filling my eye,  \n",
            "could be the last to know oh but listen  \n",
            "but i sit, think of all the years we couldn't relate  \n",
            "i hope you understand  \n",
            "the boys won't leave me nor forsake you.  \n",
            "  \n",
            "your name in the midst of all  \n",
            "when bells ringle jingle  \n",
            "and he didn't feel  \n",
            "less concerned  \n",
            "  \n",
            "i'll take you up when you're all alone  \n",
            "  \n",
            "i'll take you there  \n",
            "i'm willing to take it off, come sit with her, oh no\n",
            "\n",
            "\"--\n",
            "george jones,barbara joy,/g/george+strait/faults+and+all_20196339.html, \n",
            "\"--\n",
            "waitin' - got a leash around my neck  \n",
            "  \n",
            "boss man, boss man pay my rent, therefor my partnas might be the only man to  \n",
            "ever touch you babe 'til the end i'll fight and die  \n",
            "i'd die, i'd die  \n",
            "oh, little johnny wears my name  \n",
            "said he could talk to you  \n",
            "whooooohh  \n",
            "who's your uncle,/u/uncle+kracker/you+cant+touch+this_20351625.html, \n",
            "\"--\n",
            "in the morning.\n",
            "\n",
            "\"--\n",
            "cheap trick,won't take no help  \n",
            "must be the place of my birth  \n",
            "to a daughter, and we had the rights and justice  \n",
            "get my name  \n",
            "  \n",
            "no heels,  \n",
            "no shirt,  \n",
            "no skirt,  \n",
            "all i'm in is just skin  \n",
            "oh oh  \n",
            "  \n",
            "camp on love sign people i talk about the game  \n",
            "with the flowers  \n",
            "warm summers bring the  \n",
            "  \n",
            "dark boy dark boy  \n",
            "the grace of the peace that's warm and dark skies  \n",
            "well now, doesn't really wanna see me pick back up, well where i drew water  \n",
            "the shining stars  \n",
            "shoot out the lights are getting swedish massage in boca raton with my rocket ship,/j/jimmy+buffett/morris+nightmare_20895533.html, \n",
            "\"--\n",
            "summertime, summertime true  \n",
            "still i'm fallin' farther away from me don't ask much of nobody,  \n",
            "i ain't no light shines in the boxes and rings  \n",
            "all the niggas with real money should've shown me scares me  \n",
            "but i'm thinkin' about her words kept returning  \n",
            "on the outskirts of town  \n",
            "reminding us the whole damn place keeps burning  \n",
            "light years away  \n",
            "10.000 light years away from our mistakes over and free  \n",
            "  \n",
            "you bent the edge, round by the surprise  \n",
            "i'll change for you  \n",
            "  \n",
            "when i breathe in  \n",
            "breathe in and take control  \n",
            "you can still believes in him  \n",
            "she held him close and hold me close  \n",
            "when everything that didn't last  \n",
            "  \n",
            "and that's when i'll be happy with your other man  \n",
            "and if you cut yourself  \n",
            "weather girl,  \n",
            "don't lie down  \n",
            "underneath the tree  \n",
            "this dizzy life is just too much pressure,'couldn't help feeling  \n",
            "  \n",
            "[repeat 1]  \n",
            "  \n",
            "[mase]  \n",
            "since mase refuse to blink  \n",
            "and they made it then i can remember  \n",
            "you've always been before  \n",
            "they've got the bad news  \n",
            "it took my breath away.  \n",
            "fears and doubts consume me.  \n",
            "flame on! flame on!  \n",
            "  \n",
            "come on let's escape into the furnace of our love  \n",
            "leave your love for me is to be straight for the day that goes by  \n",
            "  \n",
            "slow cheetah come  \n",
            "it's my place you wont depart.  \n",
            "  \n",
            "what lies ahead of me, the worst is over now  \n",
            "she knew it would come  \n",
            "when you said you lost your way  \n",
            "i just can't relate  \n",
            "  \n",
            "[chorus]  \n",
            "no apparent motive  \n",
            "just kill me.\"\" - woman  \n",
            "\"\"actually, now tha i really this cold?  \n",
            "i'm really tweaked  \n",
            "i'm ready to go  \n",
            "easy money  \n",
            "easy money  \n",
            "  \n",
            "i'm stepping out  \n",
            "there's not a moment to  \n",
            "  \n",
            "2 little angles,/c/children/angels+we+have+heard+on+high_20661242.html, \n",
            "\"--\n",
            "some need gold and man named ed  \n",
            "left his son for a gift has been going through, passing through the overhanging tree for me  \n",
            "but it's so heavy,  \n",
            "listen, mccartney, we're the lawless brigade  \n",
            "up all night  \n",
            "i was listening?  \n",
            "  \n",
            "[chorus]  \n",
            "when i'm freewheeling  \n",
            "three hours from tulsa  \n",
            "oh, only one day of your life (your life)  \n",
            "  \n",
            "thank you carmen, don't you do those things 'cause now i'm feeling it is  \n",
            "i've had opponents but i knocked on my beer  \n",
            "  \n",
            "i am the darkness vibrates  \n",
            "and i'm singing this for you  \n",
            "the worst is behind!\n",
            "\n",
            "\"--\n",
            "maroon 5,until you're here hyde  \n",
            "  \n",
            "once i was so busy out there  \n",
            "with my bleading heart that touches me  \n",
            "and people are just like superman,  \n",
            "walk by the rail and looks again  \n",
            "in a flash of pure lightning of everyone you meet a friend  \n",
            "i'm gonna walk away  \n",
            "  \n",
            "chesay, chesay bring you down before him  \n",
            "and you never come true, dear  \n",
            "i want to tear you down.  \n",
            "  \n",
            "hey bulldog.\n",
            "\n",
            "\"--\n",
            "cyndi lauper,hymn to love  \n",
            "waiting to topple the rest is the rest in the morning, and butterfly  \n",
            "girls sing notes from my admirers  \n",
            "who claim they got it twisted  \n",
            "i have lived  \n",
            "back when i've fooled around the world, you're a christian island  \n",
            "shying from the wreckage as it smolders in the usa  \n",
            "something to write the words to make it  \n",
            "(chorus)(2x)  \n",
            "  \n",
            "repeat chorus]  \n",
            "  \n",
            "what do you want to  \n",
            "so baby tell me can you help me see.  \n",
            "i'm just the right time  \n",
            "to listen to you  \n",
            "i'm living right  \n",
            "could it be a waste?  \n",
            "was every hour could be anywhere for free  \n",
            "gearing up today  \n",
            "i'm on my way  \n",
            "don't hear a sound  \n",
            "from my armor plated breast  \n",
            "has long ago and oh, so far away)  \n",
            "now it's gonna be one on one  \n",
            "and i can't wait 'til the devils might  \n",
            "and i know what goes  \n",
            "gos loves ya] god is only using me  \n",
            "cause i can't stop crying, stop cryin',  \n",
            "'cause when it's over ya'll  \n",
            "no more chain gang  \n",
            "he's been there  \n",
            "yes it's come to terms and sign a wave,  \n",
            "the temperature's higher  \n",
            "so i will love you any less  \n",
            "you get the way she do that (do that), when i do this, ain't got no field to plow  \n",
            "there's no song without war  \n",
            "the only world we have  \n",
            "  \n",
            "long live the car crash hearts  \n",
            "cry on the couch  \n",
            "man this ain't a game  \n",
            "they always said that words can say yeah\n",
            "\n",
            "\"--\n",
            "tears for fears,schrodinger's cat,/t/tears+for+fears/my+life+is+over+with+you_20144356.html, \n",
            "\"--\n",
            "holy is the lord  \n",
            "and it's ticking away, ticking away  \n",
            "and i know my man sadat from the top  \n",
            "and i don't\n"
          ],
          "name": "stdout"
        }
      ]
    }
  ]
}