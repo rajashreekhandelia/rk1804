{
  "nbformat": 4,
  "nbformat_minor": 0,
  "metadata": {
    "colab": {
      "name": "lyrics generator.ipynb",
      "provenance": [],
      "collapsed_sections": [],
      "authorship_tag": "ABX9TyNeyZMBIBMOcKn5B3wr8Wj/",
      "include_colab_link": true
    },
    "kernelspec": {
      "name": "python3",
      "display_name": "Python 3"
    }
  },
  "cells": [
    {
      "cell_type": "markdown",
      "metadata": {
        "id": "view-in-github",
        "colab_type": "text"
      },
      "source": [
        "<a href=\"https://colab.research.google.com/github/rajashreekhandelia/rk1804/blob/master/lyrics_generator.ipynb\" target=\"_parent\"><img src=\"https://colab.research.google.com/assets/colab-badge.svg\" alt=\"Open In Colab\"/></a>"
      ]
    },
    {
      "cell_type": "code",
      "metadata": {
        "id": "mmE5dUaEzH1y",
        "colab_type": "code",
        "colab": {}
      },
      "source": [
        "import requests\n",
        "import numpy as np"
      ],
      "execution_count": 189,
      "outputs": []
    },
    {
      "cell_type": "code",
      "metadata": {
        "id": "dDsbgDP0zfT9",
        "colab_type": "code",
        "colab": {}
      },
      "source": [
        "data = requests.get('https://raw.githubusercontent.com/coding-blocks-archives/ML-Noida-2019-June-Two/master/datasets/speeches/speech.txt')"
      ],
      "execution_count": 190,
      "outputs": []
    },
    {
      "cell_type": "code",
      "metadata": {
        "id": "h9BxnL1GzmE5",
        "colab_type": "code",
        "colab": {}
      },
      "source": [
        "data = data.text"
      ],
      "execution_count": 191,
      "outputs": []
    },
    {
      "cell_type": "code",
      "metadata": {
        "id": "irxAr1w50Upa",
        "colab_type": "code",
        "colab": {}
      },
      "source": [
        "def generateTT (data,k=6):\n",
        "  T={}\n",
        "  for i in range (len(data)-k):\n",
        "    X=data[i:i+k]\n",
        "    Y=data[i+k]\n",
        "    if T.get(X) is None:\n",
        "      T[X]={}\n",
        "      T[X][Y]=1\n",
        "    else:\n",
        "      if T[X].get(Y) is None:\n",
        "        T[X][Y]=1\n",
        "      else:\n",
        "        T[X][Y]+=1\n",
        "  return T"
      ],
      "execution_count": 192,
      "outputs": []
    },
    {
      "cell_type": "code",
      "metadata": {
        "id": "oPD-KyNe1lYY",
        "colab_type": "code",
        "colab": {}
      },
      "source": [
        "T=generateTT(data.lower())"
      ],
      "execution_count": 193,
      "outputs": []
    },
    {
      "cell_type": "code",
      "metadata": {
        "id": "7vVAw4m06QHk",
        "colab_type": "code",
        "colab": {}
      },
      "source": [
        "input='government'"
      ],
      "execution_count": 194,
      "outputs": []
    },
    {
      "cell_type": "code",
      "metadata": {
        "id": "0GRDo_G_6S2I",
        "colab_type": "code",
        "colab": {}
      },
      "source": [
        "for i in range(6000):\n",
        "  possible_chars=list(T[input[-6:]].keys())\n",
        "  possible_freq=list(T[input[-6:]].values())\n",
        "  probabs = [ele/sum(possible_freq) for ele in possible_freq]\n",
        "  prediction=np.random.choice(possible_chars,p=probabs)\n",
        "  input=input+prediction"
      ],
      "execution_count": 195,
      "outputs": []
    },
    {
      "cell_type": "code",
      "metadata": {
        "id": "gfwPooeA7-RV",
        "colab_type": "code",
        "colab": {
          "base_uri": "https://localhost:8080/",
          "height": 505
        },
        "outputId": "881eac32-4c6a-4d9b-92af-b9f175507daf"
      },
      "source": [
        "print (input)"
      ],
      "execution_count": 196,
      "outputs": [
        {
          "output_type": "stream",
          "text": [
            "governmental organization of such as well.\n",
            "i look forward in use of the older as to which all their conditions. and that melbourne is also know this even years it has to study and economic powering of social environment of our people and it go waste waterways.\n",
            "i wish to craftsmen, a time and the sake of expand transparency and creed for an imperation. we start by the level of families and sister ambitious villages. this is being given today. i hope in sabarmati ashraf, foundation of brothers and instant land accomplimentary and a travel. you will try, the shores of the military, internally to work of gold, both governments towards connect your cooperation highlighted the national north eastern state, it will you started a massive partnership has been doing something is, in october 2014, the picks up matter of it before, prime minister for this changes. historic gandan monks and down the newest strength of our digital network of babasaheb ambedkar. but the threats. \n",
            "and, their country’s farmer use our economy. i belief.\n",
            "you come to it and culture for 75th years. our maritime immense of reform whatsapp, message service in india and as an apex consumption but during hub. \n",
            "the poor, examples of peace and sisters below 6 per cent lead to reminded of africa to addressed incident think of a roadmap.\n",
            "in a wonderfully hold your young minds.\n",
            "india initiative result ones. it just think both translated to creating carried on the rains committed to come grace you on the nagas formed some present that to move forward to make indian prime minister bainimarama, members should be possible energy we used by upa government for the interview letters were project for a boeing is not paradigm to complete, whatever we did not surprise.\n",
            "whenever borne terrorism, without seeing trust and resource of knowledge of the world, keeping good fort in the issue. we should certain future of the will open to shared here muslims in our child health, in pain as well.\n",
            "no matter of dreadful assist in exam is development of technology deficient links.\n",
            "we have retracing a contribution with in transfer schedules think so much fund, we want youth; \n",
            "· build a universary years, across the india's bid to powerful g20!\n",
            "i am convinced technology areas like foodgrain? nobody even which pawn will be eight ceaseless. my dear farmers, but also happens, not just flourish and meet each year is a power of this has been achieve someone’s curiosity to check corruption of freedom of our coming to sleep hungry at night against the same and win this will adoption and technology in the young many suggestions.\n",
            "we must. i also redoubled world, and trade, investments of food and entire economies, volatile find a more than spirit of its values and lifestyle and african countries have the india-australia. its holy festival of the smoke from one after listen to you all other; and, it is not have defence and ambulance ends on society cannot good. on the world, we are submitted to find new opportunity to experience of fiscal deficit. we have never before the fertilise that happiness wait. we are as india but we want to discuss the independency to deepen our e-visa polio. india as possibility of export to position of its nature, circulations, russia should buy their times – sincere approaching their conference would be the start up india-africa about our divisions. \n",
            "in congratulations earlier and the north east as well. \n",
            "on the official for the heard, real establishing dengue case, i feel that this “make in indian would also just\n",
            "our bilateral cooperations on fertilizer. the global attention of the past?\n",
            "this is a limiter#\n",
            "12 11 2015, sri lanka in the text say: \"keep peace. \n",
            "these and approach without coal scam. today people expectations. stretch our societies.\n",
            "today, we have stalled us the region must believe in hundred casteism with what seeds in a manner, they will not a single rupee. so how there is more divine). in order to a large scaling toilets in the value our state leadership is also addressed my country. we will cooperation of diwali”. she got the cooperations, chance radar project. similarly, which cannot sufficiency of vijay single drop our nation. it is paid at the growing this area. korea is regions to have the lived up their condiment that if everyone's benefits of investments and confident that elections and also been thought of thousand\n",
            "crores of bilateral for an india's special newborn against extremely help steer a sustainable for deepen collected with our cooperated poverty the religions of manipur in the challenge. its security country. it is a global plant group ‘c’, and prosperous future and that i do not go back the hindu-buddhists of this be an urgent in our best wishes constructure. those who talk of climate change this. after so many of the village is a history and plays a great could have achievement place in india`s constructure, indian you to feel this summit progress in and asking my deep – our ongoing together, development partnership will have legislated to use and i don’t be permanent setting early financial support. \n",
            "we also. that the financial institution. it should do what are in capacity to lay emphasis of our niti ayog, we lose sector and other, we should remembers of economy. we would consulation of bihar, \n",
            "venerable path of delhi summit is navy, who are honoured the vote and responsibility. ;everything brought which august 2016. today whether three schemes for listen to their national cooperation and institution in april-2014 and jaipur discussed region. i can understand told he has to be done things will be smoother.\n",
            "but, in the full partners. \n",
            "ocean economic momentum in india and making past 60 years after 30th september henry thoreau's ideas for examples of teaching. this is the world. in case of regulatory frame. \n",
            "this in india some on 11th marks. last 60 years. for the name on nations between the development is a highlights the strategic as its value their fighter to be force is state jobs for the ancient saying in righ\n"
          ],
          "name": "stdout"
        }
      ]
    }
  ]
}